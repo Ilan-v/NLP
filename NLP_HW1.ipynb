{
 "cells": [
  {
   "cell_type": "markdown",
   "id": "6cb5e503",
   "metadata": {},
   "source": [
    "# Imports"
   ]
  },
  {
   "cell_type": "code",
   "execution_count": 2,
   "id": "f518d9e0",
   "metadata": {},
   "outputs": [
    {
     "name": "stderr",
     "output_type": "stream",
     "text": [
      "[nltk_data] Downloading package stopwords to\n",
      "[nltk_data]     C:\\Users\\liort\\AppData\\Roaming\\nltk_data...\n",
      "[nltk_data]   Package stopwords is already up-to-date!\n"
     ]
    }
   ],
   "source": [
    "import gensim\n",
    "import numpy as np\n",
    "import pandas as pd\n",
    "import matplotlib.pyplot as plt\n",
    "import torch\n",
    "import torch.nn as nn\n",
    "import torch.nn.functional as F\n",
    "import math\n",
    "from nltk.stem.porter import PorterStemmer\n",
    "from string import  ascii_lowercase\n",
    "import nltk #TODO\n",
    "nltk.download(\"stopwords\")\n",
    "from nltk.corpus import stopwords\n",
    "from nltk.tokenize import word_tokenize \n",
    "from torch.nn.utils.rnn import pad_sequence\n",
    "from sklearn.model_selection import train_test_split\n",
    "import torch.optim as optim\n",
    "from torch.utils.tensorboard import SummaryWriter\n",
    "import time\n",
    "from sklearn.metrics import roc_auc_score, roc_curve, auc"
   ]
  },
  {
   "cell_type": "code",
   "execution_count": 3,
   "id": "25d9da15",
   "metadata": {},
   "outputs": [],
   "source": [
    "data_path = 'projectData/'\n",
    "models_path = 'models/'\n",
    "tb_dir = 'tbs/'"
   ]
  },
  {
   "cell_type": "markdown",
   "id": "95b58e84",
   "metadata": {},
   "source": [
    "## import word2vec matrix"
   ]
  },
  {
   "cell_type": "code",
   "execution_count": 4,
   "id": "46f6c840",
   "metadata": {},
   "outputs": [],
   "source": [
    "WORD_2_VEC_PATH = models_path+'word2vec.model'"
   ]
  },
  {
   "cell_type": "code",
   "execution_count": 5,
   "id": "1606d945",
   "metadata": {},
   "outputs": [],
   "source": [
    "model = gensim.models.Word2Vec.load(WORD_2_VEC_PATH)\n",
    "word2vec_matrix = torch.FloatTensor(model.wv.vectors)"
   ]
  },
  {
   "cell_type": "markdown",
   "id": "8c38a17a",
   "metadata": {},
   "source": [
    "# Load Data"
   ]
  },
  {
   "cell_type": "code",
   "execution_count": 6,
   "id": "c942d00d",
   "metadata": {},
   "outputs": [],
   "source": [
    "raw_data = pd.read_csv(data_path+'dataset_raw.csv')"
   ]
  },
  {
   "cell_type": "code",
   "execution_count": 7,
   "id": "48ede75d",
   "metadata": {},
   "outputs": [],
   "source": [
    "preprocessed_data =  raw_data['review'].apply(gensim.utils.simple_preprocess)"
   ]
  },
  {
   "cell_type": "code",
   "execution_count": 8,
   "id": "0955d3d2",
   "metadata": {},
   "outputs": [],
   "source": [
    "stemmer = PorterStemmer()\n",
    "stop_words = set(stopwords.words('english'))\n",
    "allowed_symbols = set(l for l in ascii_lowercase)"
   ]
  },
  {
   "cell_type": "code",
   "execution_count": 9,
   "id": "e795e8e9",
   "metadata": {},
   "outputs": [
    {
     "data": {
      "text/plain": [
       "'abcdefghijklmnopqrstuvwxyz'"
      ]
     },
     "execution_count": 9,
     "metadata": {},
     "output_type": "execute_result"
    }
   ],
   "source": [
    "ascii_lowercase"
   ]
  },
  {
   "cell_type": "code",
   "execution_count": 10,
   "id": "1609c24e",
   "metadata": {},
   "outputs": [],
   "source": [
    "def preprocess_sentence(sentence):\n",
    "    output_sentence = []\n",
    "    for word in sentence:\n",
    "        word = word.lower() #lower case the word\n",
    "        if word not in stop_words:  #ignore stop words\n",
    "            word = ''.join([i for i in word if i in allowed_symbols]) #remove characters which are not in allowed symbols\n",
    "            word = stemmer.stem(word) #stemming\n",
    "            if len(word) >1 : #discard words with length<=1\n",
    "                output_sentence.append(word)\n",
    "    return output_sentence\n",
    "    "
   ]
  },
  {
   "cell_type": "code",
   "execution_count": 11,
   "id": "62a90b64",
   "metadata": {},
   "outputs": [
    {
     "data": {
      "text/plain": [
       "0        [bromwell, high, is, cartoon, comedy, it, ran,...\n",
       "1        [homelessness, or, houselessness, as, george, ...\n",
       "2        [brilliant, over, acting, by, lesley, ann, war...\n",
       "3        [this, is, easily, the, most, underrated, film...\n",
       "4        [this, is, not, the, typical, mel, brooks, fil...\n",
       "                               ...                        \n",
       "37280    [towards, the, end, of, the, movie, felt, it, ...\n",
       "37281    [this, is, the, kind, of, movie, that, my, ene...\n",
       "37282    [saw, descent, last, night, at, the, stockholm...\n",
       "37283    [some, films, that, you, pick, up, for, pound,...\n",
       "37284    [this, is, one, of, the, dumbest, films, ve, e...\n",
       "Name: review, Length: 37285, dtype: object"
      ]
     },
     "execution_count": 11,
     "metadata": {},
     "output_type": "execute_result"
    }
   ],
   "source": [
    "preprocessed_data"
   ]
  },
  {
   "cell_type": "code",
   "execution_count": 12,
   "id": "ba08107f",
   "metadata": {},
   "outputs": [],
   "source": [
    "preprocessed_data = preprocessed_data.apply(preprocess_sentence, convert_dtype=True)"
   ]
  },
  {
   "cell_type": "code",
   "execution_count": null,
   "id": "29f7f9ff",
   "metadata": {},
   "outputs": [
    {
     "data": {
      "text/plain": [
       "0        [bromwel, high, cartoon, comedi, ran, time, pr...\n",
       "1        [homeless, houseless, georg, carlin, state, is...\n",
       "2        [brilliant, act, lesley, ann, warren, best, dr...\n",
       "3        [easili, underr, film, inn, brook, cannon, sur...\n",
       "4        [typic, mel, brook, film, much, less, slapstic...\n",
       "                               ...                        \n",
       "37280    [toward, end, movi, felt, technic, felt, like,...\n",
       "37281    [kind, movi, enemi, content, watch, time, bloo...\n",
       "37282    [saw, descent, last, night, stockholm, film, f...\n",
       "37283    [film, pick, pound, turn, rather, good, rd, ce...\n",
       "37284    [one, dumbest, film, ever, seen, rip, nearli, ...\n",
       "Name: review, Length: 37285, dtype: object"
      ]
     },
     "execution_count": 28,
     "metadata": {},
     "output_type": "execute_result"
    }
   ],
   "source": [
    "preprocessed_data"
   ]
  },
  {
   "cell_type": "markdown",
   "id": "5dbb6a59",
   "metadata": {},
   "source": [
    "# Train Word2Vec on our New Data"
   ]
  },
  {
   "cell_type": "code",
   "execution_count": null,
   "id": "6e70cb0c",
   "metadata": {},
   "outputs": [],
   "source": [
    "model = gensim.models.Word2Vec(\n",
    "    window = 5,\n",
    "    min_count =5,\n",
    "    workers= 4\n",
    ")"
   ]
  },
  {
   "cell_type": "code",
   "execution_count": null,
   "id": "04c6db69",
   "metadata": {},
   "outputs": [],
   "source": [
    "model.build_vocab(preprocessed_data)"
   ]
  },
  {
   "cell_type": "code",
   "execution_count": null,
   "id": "2483ac25",
   "metadata": {},
   "outputs": [],
   "source": [
    "model.epochs = 10"
   ]
  },
  {
   "cell_type": "code",
   "execution_count": null,
   "id": "3cbfc4b3",
   "metadata": {},
   "outputs": [
    {
     "data": {
      "text/plain": [
       "(41314583, 45543770)"
      ]
     },
     "execution_count": 38,
     "metadata": {},
     "output_type": "execute_result"
    }
   ],
   "source": [
    "model.train(preprocessed_data, total_examples=model.corpus_count, epochs = model.epochs)"
   ]
  },
  {
   "cell_type": "code",
   "execution_count": null,
   "id": "bf5a1e43",
   "metadata": {},
   "outputs": [],
   "source": [
    "weights = torch.FloatTensor(model.wv.vectors)"
   ]
  },
  {
   "cell_type": "code",
   "execution_count": null,
   "id": "e74a2b5a",
   "metadata": {},
   "outputs": [],
   "source": [
    "weights.shape"
   ]
  },
  {
   "cell_type": "code",
   "execution_count": 56,
   "id": "71f83e6b",
   "metadata": {},
   "outputs": [],
   "source": [
    "def check_of_word_in_word2vec(sentence):\n",
    "    output_sentence = []\n",
    "    for word in sentence:\n",
    "        try:\n",
    "            dummy = model.wv.get_index(word)\n",
    "            output_sentence.append(word)\n",
    "\n",
    "        except KeyError:\n",
    "           continue\n",
    "    return output_sentence\n",
    "\n",
    "preprocessed_data = preprocessed_data.apply(check_of_word_in_word2vec)"
   ]
  },
  {
   "cell_type": "code",
   "execution_count": 57,
   "id": "6d7a7f05",
   "metadata": {},
   "outputs": [],
   "source": [
    "def tokenize(review):\n",
    "    return torch.LongTensor([model.wv.get_index(word) for word in review])"
   ]
  },
  {
   "cell_type": "code",
   "execution_count": 78,
   "id": "2f28af9d",
   "metadata": {},
   "outputs": [],
   "source": [
    "X= preprocessed_data.apply(lambda x: tokenize(x))\n",
    "# review['vector'] "
   ]
  },
  {
   "cell_type": "code",
   "execution_count": 67,
   "id": "3667579f",
   "metadata": {},
   "outputs": [],
   "source": [
    "y = raw_data['label'].tolist()"
   ]
  },
  {
   "cell_type": "code",
   "execution_count": 63,
   "id": "f6796326",
   "metadata": {},
   "outputs": [],
   "source": [
    "def pad_collate(batch):\n",
    "  (xx, yy) = zip(*batch)\n",
    "  x_lens = [len(x) for x in xx]\n",
    "  y_lens = [len(y) for y in yy]\n",
    "\n",
    "  xx_pad = pad_sequence(xx, batch_first=True, padding_value=0)\n",
    "  yy_pad = pad_sequence(yy, batch_first=True, padding_value=0)\n",
    "\n",
    "  return xx_pad, yy_pad, x_lens, y_lens"
   ]
  },
  {
   "cell_type": "code",
   "execution_count": 81,
   "id": "51f4551f",
   "metadata": {},
   "outputs": [],
   "source": [
    "X = pad_sequence(X, batch_first=True, padding_value=0)"
   ]
  },
  {
   "cell_type": "code",
   "execution_count": 83,
   "id": "485607b8",
   "metadata": {},
   "outputs": [
    {
     "name": "stderr",
     "output_type": "stream",
     "text": [
      "C:\\Users\\liort\\AppData\\Local\\Temp\\ipykernel_17056\\1581547834.py:6: UserWarning: To copy construct from a tensor, it is recommended to use sourceTensor.clone().detach() or sourceTensor.clone().detach().requires_grad_(True), rather than torch.tensor(sourceTensor).\n",
      "  X_train, y_train = torch.tensor(X_train), torch.tensor(y_train)\n",
      "C:\\Users\\liort\\AppData\\Local\\Temp\\ipykernel_17056\\1581547834.py:7: UserWarning: To copy construct from a tensor, it is recommended to use sourceTensor.clone().detach() or sourceTensor.clone().detach().requires_grad_(True), rather than torch.tensor(sourceTensor).\n",
      "  X_test, y_test = torch.tensor(X_test), torch.tensor(y_test)\n",
      "C:\\Users\\liort\\AppData\\Local\\Temp\\ipykernel_17056\\1581547834.py:9: UserWarning: To copy construct from a tensor, it is recommended to use sourceTensor.clone().detach() or sourceTensor.clone().detach().requires_grad_(True), rather than torch.tensor(sourceTensor).\n",
      "  X_train, y_train = torch.tensor(X_train), torch.tensor(y_train)\n",
      "C:\\Users\\liort\\AppData\\Local\\Temp\\ipykernel_17056\\1581547834.py:10: UserWarning: To copy construct from a tensor, it is recommended to use sourceTensor.clone().detach() or sourceTensor.clone().detach().requires_grad_(True), rather than torch.tensor(sourceTensor).\n",
      "  X_test, y_test = torch.tensor(X_test), torch.tensor(y_test)\n"
     ]
    }
   ],
   "source": [
    "X_train, X_test, y_train, y_test = train_test_split(X,\n",
    "                                                    y,\n",
    "                                                    test_size=.25,\n",
    "                                                    random_state=42)\n",
    "\n",
    "X_train, y_train = torch.tensor(X_train), torch.tensor(y_train)\n",
    "X_test, y_test = torch.tensor(X_test), torch.tensor(y_test)\n",
    "\n",
    "X_train, y_train = torch.tensor(X_train), torch.tensor(y_train)\n",
    "X_test, y_test = torch.tensor(X_test), torch.tensor(y_test)"
   ]
  },
  {
   "cell_type": "code",
   "execution_count": 84,
   "id": "ea85e97c",
   "metadata": {},
   "outputs": [],
   "source": [
    "ds_train = torch.utils.data.TensorDataset(X_train, y_train)\n",
    "train_loader = torch.utils.data.DataLoader(ds_train, batch_size=32, shuffle=True)\n",
    "\n",
    "ds_test = torch.utils.data.TensorDataset(X_test, y_test)\n",
    "test_loader = torch.utils.data.DataLoader(ds_test, batch_size=32, shuffle=True)"
   ]
  },
  {
   "cell_type": "markdown",
   "id": "5c41a408",
   "metadata": {},
   "source": [
    "# Define Our Model"
   ]
  },
  {
   "cell_type": "markdown",
   "id": "e594c92c",
   "metadata": {},
   "source": [
    "## Equations of the LSTM cell:"
   ]
  },
  {
   "attachments": {
    "Screenshot%202022-03-16%20114750.png": {
     "image/png": "[encoded data removed]"
    }
   },
   "cell_type": "markdown",
   "id": "1683883d",
   "metadata": {},
   "source": [
    "![lstm.png](lstmeq.jpeg)"
   ]
  },
  {
   "cell_type": "code",
   "execution_count": 118,
   "id": "9ab2ca2c",
   "metadata": {},
   "outputs": [],
   "source": [
    "class new_LSTM(nn.Module):\n",
    "    def __init__(self, input_sz: int, hidden_sz: int, label_sz: int):\n",
    "        super().__init__()\n",
    "        self.input_size = input_sz\n",
    "        self.hidden_size = hidden_sz\n",
    "        self.label_size = label_sz\n",
    "\n",
    "        self.W = nn.Parameter(torch.Tensor(input_sz, hidden_sz * 4))\n",
    "        self.U = nn.Parameter(torch.Tensor(hidden_sz, hidden_sz * 4))\n",
    "        self.bias = nn.Parameter(torch.Tensor(hidden_sz * 4))\n",
    "        self.hidden2label = nn.Parameter(torch.Tensor(self.hidden_size, self.label_size))\n",
    "        \n",
    "        self.init_weights()\n",
    "    \n",
    "    def init_weights(self):\n",
    "            stdv = 1.0 / math.sqrt(self.hidden_size)\n",
    "            for weight in self.parameters():\n",
    "                weight.data.uniform_(-stdv, stdv)\n",
    "                \n",
    "    \n",
    "    def forward(self,\n",
    "                    x,\n",
    "                    init_states=None):\n",
    "\n",
    "            \"\"\"\n",
    "            assumes x.shape represents (batch_size, sequence_size, input_size)\n",
    "            \"\"\"\n",
    "            bs, seq_sz, _ = x.size()\n",
    "            hidden_seq = []\n",
    "\n",
    "            if init_states is None:\n",
    "                h_t, c_t = (\n",
    "                    torch.zeros(bs, self.hidden_size).to(x.device),\n",
    "                    torch.zeros(bs, self.hidden_size).to(x.device),\n",
    "                )\n",
    "            else:\n",
    "                h_t, c_t = init_states\n",
    "\n",
    "            #loop over all words in sequence\n",
    "            HS = self.hidden_size\n",
    "            for t in range(seq_sz):\n",
    "                x_t = x[:, t, :]\n",
    "                gates = x_t @ self.W + h_t @ self.U + self.bias\n",
    "                \n",
    "                i_t, f_t, g_t, o_t = (\n",
    "                    torch.sigmoid(gates[:, :HS]), # input\n",
    "                    torch.sigmoid(gates[:, HS:HS*2]), # forget\n",
    "                    torch.tanh(gates[:, HS*2:HS*3]),\n",
    "                    torch.sigmoid(gates[:, HS*3:]), # output\n",
    "                )\n",
    "                \n",
    "                c_t = f_t * c_t + i_t * g_t\n",
    "                h_t = o_t * torch.tanh(c_t)\n",
    "                \n",
    "                hidden_seq.append(h_t.unsqueeze(0))\n",
    "                # last word:\n",
    "                if t==seq_sz-1:\n",
    "                    y_pred = torch.sigmoid(h_t @ self.hidden2label)\n",
    "                    \n",
    "            # convert hidden state list to tensor\n",
    "            hidden_seq = torch.cat(hidden_seq, dim=0)\n",
    "            hidden_seq = hidden_seq.transpose(0, 1).contiguous()\n",
    "            return  y_pred"
   ]
  },
  {
   "cell_type": "code",
   "execution_count": 119,
   "id": "a5908607",
   "metadata": {},
   "outputs": [],
   "source": [
    "class Net(nn.Module):\n",
    "    def __init__(self,input_sz: int, hidden_sz: int, label_sz: int,embedding_weights):\n",
    "        super().__init__()\n",
    "        self.embedding = nn.Embedding.from_pretrained(embedding_weights)\n",
    "        self.lstm = new_LSTM(input_sz, hidden_sz, label_sz)\n",
    "    \n",
    "    def forward(self,x):\n",
    "        x_embeded = self.embedding(x)\n",
    "        preds = self.lstm(x_embeded)\n",
    "        return preds"
   ]
  },
  {
   "cell_type": "code",
   "execution_count": 125,
   "id": "9851a15d",
   "metadata": {},
   "outputs": [],
   "source": [
    "device = torch.device('cpu')\n",
    "classifier = Net(100, 50, 1, weights).to(device)\n",
    "optimizer = optim.Adam(classifier.parameters(), lr=0.01)\n",
    "criterion = nn.BCELoss()\n",
    "epochs = 20"
   ]
  },
  {
   "cell_type": "markdown",
   "id": "661bff9b",
   "metadata": {},
   "source": [
    "# Training Loop"
   ]
  },
  {
   "cell_type": "code",
   "execution_count": 129,
   "id": "6e81c2da",
   "metadata": {},
   "outputs": [],
   "source": [
    "def run_model_loop(train_dataloader,test_dataloader,classifier,epochs,criterion,optimizer,tb_dirname):\n",
    "    train_loss_list = []\n",
    "    test_loss_list = []\n",
    "    train_auc_list=[]\n",
    "    test_auc_list=[]\n",
    "\n",
    "    writer = SummaryWriter(log_dir=f'{tb_dir}/{tb_dirname}_{time.time()}')\n",
    "    i = 0\n",
    "    for e in range(epochs):\n",
    "        train_labels_list = []\n",
    "        train_prediction_list = []\n",
    "        test_labels_list = []\n",
    "        test_prediction_list = []\n",
    "        \n",
    "        running_loss = 0\n",
    "        classifier.train()\n",
    "        \n",
    "        i+=1\n",
    "        print(f'epoch {i} started')\n",
    "        for inputs, labels in train_dataloader:\n",
    "            labels= labels.to(torch.float32)\n",
    "            inputs, labels = inputs.to(device), labels.to(device)\n",
    "            labels = labels.view(-1,1)\n",
    "            \n",
    "            optimizer.zero_grad()\n",
    "            pred = classifier(inputs)\n",
    "            loss = criterion(pred, labels)\n",
    "            loss.backward()\n",
    "            optimizer.step()\n",
    "            running_loss+=loss.item()\n",
    "            train_prediction_list.extend(pred.flatten().tolist())\n",
    "            train_labels_list.extend(labels.flatten().tolist())\n",
    "        epoch_train_loss = running_loss/len(train_dataloader.dataset)\n",
    "        train_loss_list.append(epoch_train_loss)\n",
    "        fpr_t, tpr_t, thresholds_t = roc_curve(np.array(train_labels_list), np.array(train_prediction_list))\n",
    "        train_auc = auc(fpr_t, tpr_t)\n",
    "        train_auc_list.append(train_auc)    \n",
    "        \n",
    "        test_loss = 0\n",
    "        classifier.eval()\n",
    "        # we dont need to update weights, so we define no_grad() to save memory\n",
    "        with torch.no_grad():\n",
    "            for inputs, labels in test_dataloader:\n",
    "                labels= labels.to(torch.float32)\n",
    "                inputs, labels = inputs.to(device), labels.to(device)\n",
    "                labels = labels.view(-1,1)\n",
    "                \n",
    "                test_pred = classifier(inputs)\n",
    "                test_loss+=criterion(test_pred, labels)\n",
    "                \n",
    "                test_prediction_list.extend(test_pred.flatten().tolist())\n",
    "                test_labels_list.extend(labels.flatten().tolist())\n",
    "        epoch_test_loss = test_loss/len(test_dataloader.dataset)\n",
    "        test_loss_list.append(epoch_test_loss)\n",
    "        fpr_v, tpr_v, thresholds_v = roc_curve(np.array(test_labels_list),np.array(test_prediction_list))\n",
    "        test_auc = auc(fpr_v, tpr_v)\n",
    "        test_auc_list.append(test_auc)\n",
    "        \n",
    "        #Tensorboard documentation\n",
    "        #loss\n",
    "        writer.add_scalar(tag='loss/train', scalar_value=epoch_train_loss, global_step=e)\n",
    "        writer.add_scalar(tag='loss/test', scalar_value=epoch_test_loss, global_step=e)\n",
    "        #auc\n",
    "        writer.add_scalar(tag='auc/train', scalar_value=train_auc, global_step=e)\n",
    "        writer.add_scalar(tag='auc/test', scalar_value=test_auc, global_step=e)\n",
    "\n",
    "    return {'train_loss':train_loss_list,\n",
    "            'train_auc':train_auc_list,\n",
    "            'test_auc':test_auc_list,\n",
    "            'test_loss':test_loss_list\n",
    "            }"
   ]
  },
  {
   "cell_type": "code",
   "execution_count": 130,
   "id": "640d9a5b",
   "metadata": {},
   "outputs": [
    {
     "name": "stdout",
     "output_type": "stream",
     "text": [
      "epoch 1 started\n",
      "epoch 2 started\n",
      "epoch 3 started\n",
      "epoch 4 started\n",
      "epoch 5 started\n",
      "epoch 6 started\n",
      "epoch 7 started\n",
      "epoch 8 started\n",
      "epoch 9 started\n",
      "epoch 10 started\n",
      "epoch 11 started\n",
      "epoch 12 started\n",
      "epoch 13 started\n",
      "epoch 14 started\n",
      "epoch 15 started\n",
      "epoch 16 started\n",
      "epoch 17 started\n",
      "epoch 18 started\n",
      "epoch 19 started\n",
      "epoch 20 started\n"
     ]
    }
   ],
   "source": [
    "lstm_run = run_model_loop(train_loader,test_loader,classifier,epochs,criterion,optimizer,'lr_pytorch')"
   ]
  },
  {
   "cell_type": "markdown",
   "id": "9bca18a6",
   "metadata": {},
   "source": [
    "# Loss and Auc Plots"
   ]
  },
  {
   "cell_type": "code",
   "execution_count": 137,
   "id": "ff477940",
   "metadata": {},
   "outputs": [
    {
     "data": {
      "text/plain": [
       "<matplotlib.legend.Legend at 0x1a3b2f3e340>"
      ]
     },
     "execution_count": 137,
     "metadata": {},
     "output_type": "execute_result"
    },
    {
     "data": {
      "image/png": "[encoded data removed]",
      "text/plain": [
       "<Figure size 1440x720 with 1 Axes>"
      ]
     },
     "metadata": {
      "needs_background": "light"
     },
     "output_type": "display_data"
    }
   ],
   "source": [
    "#Loss vs epochs graph \n",
    "plt.figure(figsize=(20,10))\n",
    "plt.plot(lstm_run['train_loss'], label = 'net train loss')\n",
    "plt.legend(frameon = False)"
   ]
  },
  {
   "cell_type": "code",
   "execution_count": 142,
   "id": "7a7b59e3",
   "metadata": {},
   "outputs": [
    {
     "data": {
      "text/plain": [
       "<matplotlib.legend.Legend at 0x1a3b2ef3bb0>"
      ]
     },
     "execution_count": 142,
     "metadata": {},
     "output_type": "execute_result"
    },
    {
     "data": {
      "image/png": "[encoded data removed]",
      "text/plain": [
       "<Figure size 1440x720 with 1 Axes>"
      ]
     },
     "metadata": {
      "needs_background": "light"
     },
     "output_type": "display_data"
    }
   ],
   "source": [
    "#Loss vs epochs graph \n",
    "plt.figure(figsize=(20,10))\n",
    "plt.plot(lstm_run['test_loss'], label = 'net test loss')\n",
    "plt.legend(frameon = False)"
   ]
  },
  {
   "cell_type": "code",
   "execution_count": null,
   "id": "61d7c949",
   "metadata": {},
   "outputs": [],
   "source": []
  },
  {
   "cell_type": "code",
   "execution_count": null,
   "id": "103c84bc",
   "metadata": {},
   "outputs": [],
   "source": [
    "plt.figure(figsize=(20,10))\n",
    "plt.plot(fpr_v, tpr_v, lw=2, alpha=0.3, label='ROC fold')\n",
    "# ROC GRAPH\n",
    "plt.xlabel('False Positive Rate')\n",
    "plt.ylabel('True Positive Rate')\n",
    "plt.title('ROC of ' + 'our model'.split(\"(\")[0] + ' model')\n",
    "plt.plot([0, 1], [0, 1], color='navy', linestyle='--')\n",
    "plt.legend(loc = \"lower right\")\n",
    "plt.show() "
   ]
  }
 ],
 "metadata": {
  "kernelspec": {
   "display_name": "Python 3",
   "language": "python",
   "name": "python3"
  },
  "language_info": {
   "codemirror_mode": {
    "name": "ipython",
    "version": 3
   },
   "file_extension": ".py",
   "mimetype": "text/x-python",
   "name": "python",
   "nbconvert_exporter": "python",
   "pygments_lexer": "ipython3",
   "version": "3.9.7"
  }
 },
 "nbformat": 4,
 "nbformat_minor": 5
}

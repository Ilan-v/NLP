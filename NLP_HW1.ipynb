{
 "cells": [
  {
   "cell_type": "markdown",
   "id": "6cb5e503",
   "metadata": {},
   "source": [
    "# Imports"
   ]
  },
  {
   "cell_type": "code",
   "execution_count": 1,
   "id": "f518d9e0",
   "metadata": {},
   "outputs": [],
   "source": [
    "import gensim\n",
    "import numpy as np\n",
    "import pandas as pd\n",
    "import matplotlib.pyplot as plt\n",
    "import torch\n",
    "import torch.nn as nn\n",
    "import torch.nn.functional as F\n",
    "import math\n",
    "from nltk.stem.porter import PorterStemmer\n",
    "from string import  ascii_lowercase\n",
    "import nltk #TODO: figure out how to notify sagiv about new libraries\n",
    "nltk.download(\"stopwords\")\n",
    "from nltk.corpus import stopwords\n",
    "from nltk.tokenize import word_tokenize \n",
    "from torch.nn.utils.rnn import pad_sequence\n",
    "from sklearn.model_selection import train_test_split\n",
    "import torch.optim as optim\n",
    "from torch.utils.tensorboard import SummaryWriter\n",
    "import time\n",
    "from sklearn.metrics import roc_auc_score, roc_curve, auc\n",
    "\n",
    "from torch.nn.utils.rnn import pad_sequence\n",
    "from torch.nn.utils.rnn import pack_padded_sequence\n",
    "from torch.nn.utils.rnn import pad_packed_sequence"
   ]
  },
  {
   "cell_type": "code",
   "execution_count": null,
   "id": "25d9da15",
   "metadata": {},
   "outputs": [],
   "source": [
    "data_path = 'projectData/'\n",
    "models_path = 'models/'\n",
    "tb_dir = 'tbs/'"
   ]
  },
  {
   "cell_type": "code",
   "execution_count": null,
   "id": "07dff3c9",
   "metadata": {},
   "outputs": [
    {
     "name": "stderr",
     "output_type": "stream",
     "text": [
      "UsageError: Line magic function `%tensorboard` not found.\n"
     ]
    }
   ],
   "source": [
    "%tensorboard --logdir tbs --port 6007"
   ]
  },
  {
   "cell_type": "markdown",
   "id": "95b58e84",
   "metadata": {},
   "source": [
    "## import word2vec matrix"
   ]
  },
  {
   "cell_type": "code",
   "execution_count": null,
   "id": "46f6c840",
   "metadata": {},
   "outputs": [],
   "source": [
    "WORD_2_VEC_PATH = models_path+'word2vec.model'"
   ]
  },
  {
   "cell_type": "code",
   "execution_count": null,
   "id": "1606d945",
   "metadata": {},
   "outputs": [],
   "source": [
    "model = gensim.models.Word2Vec.load(WORD_2_VEC_PATH)\n",
    "word2vec_matrix = torch.FloatTensor(model.wv.vectors)"
   ]
  },
  {
   "cell_type": "markdown",
   "id": "8c38a17a",
   "metadata": {},
   "source": [
    "# Load Data"
   ]
  },
  {
   "cell_type": "code",
   "execution_count": null,
   "id": "c942d00d",
   "metadata": {},
   "outputs": [],
   "source": [
    "raw_data = pd.read_csv(data_path+'dataset_raw.csv')"
   ]
  },
  {
   "cell_type": "code",
   "execution_count": null,
   "id": "6cd9a621",
   "metadata": {},
   "outputs": [],
   "source": [
    "mini_raw_data = raw_data.sample(10000)"
   ]
  },
  {
   "cell_type": "code",
   "execution_count": null,
   "id": "48ede75d",
   "metadata": {},
   "outputs": [],
   "source": [
    "preprocessed_data =  mini_raw_data['review'].apply(gensim.utils.simple_preprocess)"
   ]
  },
  {
   "cell_type": "code",
   "execution_count": null,
   "id": "0955d3d2",
   "metadata": {},
   "outputs": [],
   "source": [
    "stemmer = PorterStemmer()\n",
    "stop_words = set(stopwords.words('english'))\n",
    "allowed_symbols = set(l for l in ascii_lowercase)"
   ]
  },
  {
   "cell_type": "code",
   "execution_count": null,
   "id": "1609c24e",
   "metadata": {},
   "outputs": [],
   "source": [
    "def preprocess_sentence(sentence):\n",
    "    output_sentence = []\n",
    "    for word in sentence:\n",
    "        word = word.lower() #lower case the word\n",
    "        if word not in stop_words:  #ignore stop words\n",
    "            word = ''.join([i for i in word if i in allowed_symbols]) #remove characters which are not in allowed symbols\n",
    "            word = stemmer.stem(word) #stemming\n",
    "            if len(word) >1 : #discard words with length<=1\n",
    "                output_sentence.append(word)\n",
    "    return output_sentence\n",
    "    "
   ]
  },
  {
   "cell_type": "code",
   "execution_count": null,
   "id": "62a90b64",
   "metadata": {},
   "outputs": [
    {
     "data": {
      "text/plain": [
       "22852    [this, was, one, of, the, worst, films, have, ...\n",
       "33474    [this, is, not, commentary, on, the, actual, m...\n",
       "29582    [for, die, hard, judy, garland, fans, only, th...\n",
       "11218    [saw, this, movie, with, my, dad, must, have, ...\n",
       "28498    [oh, it, the, movie, thought, waited, too, lon...\n",
       "                               ...                        \n",
       "8002     [the, essence, of, this, film, falls, on, judg...\n",
       "28916    [we, actually, watched, this, twice, in, the, ...\n",
       "10794    [as, part, of, our, late, vocabulary, we, well...\n",
       "36878    [have, an, awful, pan, and, scan, videotape, o...\n",
       "35241    [the, biggest, one, that, bugs, the, hell, out...\n",
       "Name: review, Length: 10000, dtype: object"
      ]
     },
     "execution_count": 11,
     "metadata": {},
     "output_type": "execute_result"
    }
   ],
   "source": [
    "preprocessed_data"
   ]
  },
  {
   "cell_type": "code",
   "execution_count": null,
   "id": "ba08107f",
   "metadata": {},
   "outputs": [],
   "source": [
    "#TODO: Move to notebook for preprocessing and save output\n",
    "preprocessed_data = preprocessed_data.apply(preprocess_sentence, convert_dtype=True)"
   ]
  },
  {
   "cell_type": "markdown",
   "id": "5dbb6a59",
   "metadata": {},
   "source": [
    "# Train Word2Vec on our New Data"
   ]
  },
  {
   "cell_type": "code",
   "execution_count": null,
   "id": "6e70cb0c",
   "metadata": {},
   "outputs": [],
   "source": [
    "# we use default embedding size of 100\n",
    "model = gensim.models.Word2Vec(\n",
    "    vector_size = 50,\n",
    "    window = 5,\n",
    "    min_count =5,\n",
    "    workers= 4\n",
    ")"
   ]
  },
  {
   "cell_type": "code",
   "execution_count": null,
   "id": "04c6db69",
   "metadata": {},
   "outputs": [],
   "source": [
    "model.build_vocab(preprocessed_data)"
   ]
  },
  {
   "cell_type": "code",
   "execution_count": null,
   "id": "2483ac25",
   "metadata": {},
   "outputs": [],
   "source": [
    "model.epochs = 30"
   ]
  },
  {
   "cell_type": "code",
   "execution_count": null,
   "id": "3cbfc4b3",
   "metadata": {},
   "outputs": [
    {
     "data": {
      "text/plain": [
       "(32266492, 36269100)"
      ]
     },
     "execution_count": 17,
     "metadata": {},
     "output_type": "execute_result"
    }
   ],
   "source": [
    "model.train(preprocessed_data, total_examples=model.corpus_count, epochs = model.epochs,)"
   ]
  },
  {
   "cell_type": "code",
   "execution_count": null,
   "id": "bf5a1e43",
   "metadata": {},
   "outputs": [],
   "source": [
    "weights = torch.FloatTensor(model.wv.vectors)"
   ]
  },
  {
   "cell_type": "code",
   "execution_count": null,
   "id": "5b4f87ad",
   "metadata": {},
   "outputs": [
    {
     "data": {
      "text/plain": [
       "torch.Size([13162, 50])"
      ]
     },
     "execution_count": 19,
     "metadata": {},
     "output_type": "execute_result"
    }
   ],
   "source": [
    "weights.shape"
   ]
  },
  {
   "cell_type": "code",
   "execution_count": null,
   "id": "71f83e6b",
   "metadata": {},
   "outputs": [],
   "source": [
    "def check_of_word_in_word2vec(sentence):\n",
    "    \"\"\"\n",
    "    Function that ignores word with low frequency, to avoid keyerrors\n",
    "    returns sentences without words oov\n",
    "    \"\"\"\n",
    "    output_sentence = []\n",
    "    for word in sentence:\n",
    "        try:\n",
    "            dummy = model.wv.get_index(word)\n",
    "            output_sentence.append(word)\n",
    "\n",
    "        except KeyError:\n",
    "           continue\n",
    "    return output_sentence\n",
    "\n",
    "preprocessed_data = preprocessed_data.apply(check_of_word_in_word2vec)"
   ]
  },
  {
   "cell_type": "code",
   "execution_count": null,
   "id": "6d7a7f05",
   "metadata": {},
   "outputs": [],
   "source": [
    "def tokenize(review):\n",
    "    return torch.LongTensor([model.wv.get_index(word) for word in review])"
   ]
  },
  {
   "cell_type": "code",
   "execution_count": null,
   "id": "2f28af9d",
   "metadata": {},
   "outputs": [],
   "source": [
    "X = preprocessed_data.apply(lambda x: tokenize(x))"
   ]
  },
  {
   "cell_type": "code",
   "execution_count": null,
   "id": "af6e1a2f",
   "metadata": {},
   "outputs": [
    {
     "data": {
      "text/plain": [
       "22852    [tensor(3), tensor(166), tensor(2), tensor(54)...\n",
       "33474    [tensor(1298), tensor(65), tensor(1), tensor(1...\n",
       "29582    [tensor(258), tensor(174), tensor(3316), tenso...\n",
       "11218    [tensor(134), tensor(1), tensor(1140), tensor(...\n",
       "28498    [tensor(380), tensor(1), tensor(94), tensor(38...\n",
       "                               ...                        \n",
       "8002     [tensor(3096), tensor(2), tensor(265), tensor(...\n",
       "28916    [tensor(65), tensor(11), tensor(1364), tensor(...\n",
       "10794    [tensor(61), tensor(421), tensor(7170), tensor...\n",
       "36878    [tensor(275), tensor(2189), tensor(5107), tens...\n",
       "35241    [tensor(1021), tensor(3), tensor(1575), tensor...\n",
       "Name: review, Length: 10000, dtype: object"
      ]
     },
     "execution_count": 23,
     "metadata": {},
     "output_type": "execute_result"
    }
   ],
   "source": [
    "X"
   ]
  },
  {
   "cell_type": "code",
   "execution_count": null,
   "id": "3667579f",
   "metadata": {},
   "outputs": [],
   "source": [
    "y = torch.tensor(mini_raw_data['label'].values)\n"
   ]
  },
  {
   "cell_type": "code",
   "execution_count": null,
   "id": "485607b8",
   "metadata": {},
   "outputs": [],
   "source": [
    "X_train, X_test, y_train, y_test = train_test_split(X,\n",
    "                                                    y,\n",
    "                                                    test_size=.25,\n",
    "                                                    random_state=42)"
   ]
  },
  {
   "cell_type": "markdown",
   "id": "5c41a408",
   "metadata": {},
   "source": [
    "# Define Our Model"
   ]
  },
  {
   "cell_type": "markdown",
   "id": "e594c92c",
   "metadata": {},
   "source": [
    "## Equations of the LSTM cell:"
   ]
  },
  {
   "attachments": {
    "Screenshot%202022-03-16%20114750.png": {
     "image/png": "[encoded data removed]"
    }
   },
   "cell_type": "markdown",
   "id": "1683883d",
   "metadata": {},
   "source": [
    "![lstm.png](lstmeq.jpeg)"
   ]
  },
  {
   "cell_type": "code",
   "execution_count": null,
   "id": "9ab2ca2c",
   "metadata": {},
   "outputs": [],
   "source": [
    "class new_LSTM(nn.Module):\n",
    "    def __init__(self, input_sz: int, hidden_sz: int, label_sz: int):\n",
    "        super().__init__()\n",
    "        self.input_size = input_sz\n",
    "        self.hidden_size = hidden_sz\n",
    "        self.label_size = label_sz\n",
    "\n",
    "        self.U_i = nn.Parameter(torch.Tensor(input_sz, hidden_sz))\n",
    "        self.V_i = nn.Parameter(torch.Tensor(hidden_sz, hidden_sz))\n",
    "        self.b_i = nn.Parameter(torch.Tensor(hidden_sz))\n",
    "\n",
    "        self.U_f = nn.Parameter(torch.Tensor(input_sz, hidden_sz))\n",
    "        self.V_f = nn.Parameter(torch.Tensor(hidden_sz, hidden_sz))\n",
    "        self.b_f = nn.Parameter(torch.Tensor(hidden_sz))\n",
    "\n",
    "        self.U_c = nn.Parameter(torch.Tensor(input_sz, hidden_sz))\n",
    "        self.V_c = nn.Parameter(torch.Tensor(hidden_sz, hidden_sz))\n",
    "        self.b_c = nn.Parameter(torch.Tensor(hidden_sz))\n",
    "\n",
    "        self.U_o = nn.Parameter(torch.Tensor(input_sz, hidden_sz))\n",
    "        self.V_o = nn.Parameter(torch.Tensor(hidden_sz, hidden_sz))\n",
    "        self.b_o = nn.Parameter(torch.Tensor(hidden_sz))\n",
    "\n",
    "        self.hidden2label = nn.Parameter(torch.Tensor(hidden_sz, label_sz))\n",
    "        \n",
    "        self.init_weights()\n",
    "    \n",
    "    def init_weights(self):\n",
    "            stdv = 1.0 / math.sqrt(self.hidden_size)\n",
    "            for weight in self.parameters():\n",
    "                weight.data.uniform_(-stdv, stdv)\n",
    "                \n",
    "    \n",
    "    def forward(self,\n",
    "                    x,\n",
    "                    init_states=None):\n",
    "\n",
    "            \"\"\"\n",
    "            assumes x.shape represents (batch_size, sequence_size, input_size)\n",
    "            \"\"\"\n",
    "            seq_sz, embeded_sz = x.size()\n",
    "            \n",
    "            if init_states is None:\n",
    "                h_t, c_t = (\n",
    "                    torch.zeros(self.hidden_size).to(x.device),\n",
    "                    torch.zeros(self.hidden_size).to(x.device),\n",
    "                )\n",
    "            else:\n",
    "                h_t, c_t = init_states\n",
    "\n",
    "            #loop over all words in sequence\n",
    "            \n",
    "            for t in range(seq_sz):\n",
    "                x_t = x[t]\n",
    "                i_t = torch.sigmoid(x_t @ self.U_i + h_t @ self.V_i + self.b_i)\n",
    "                f_t = torch.sigmoid(x_t @ self.U_f + h_t @ self.V_f + self.b_f)\n",
    "                g_t = torch.tanh(x_t @ self.U_c + h_t @ self.V_c + self.b_c)\n",
    "                o_t = torch.sigmoid(x_t @ self.U_o + h_t @ self.V_o + self.b_o)\n",
    "                c_t = f_t * c_t + i_t * g_t\n",
    "                h_t = o_t * torch.tanh(c_t)\n",
    "                    \n",
    "                \n",
    "                # last word:\n",
    "                if t==seq_sz-1:\n",
    "                    y_pred = torch.sigmoid(h_t @ self.hidden2label)\n",
    "            \n",
    "            return  y_pred"
   ]
  },
  {
   "cell_type": "code",
   "execution_count": null,
   "id": "a5908607",
   "metadata": {},
   "outputs": [],
   "source": [
    "class Net(nn.Module):\n",
    "    def __init__(self,input_sz: int, hidden_sz: int, label_sz: int, embedding_weights):\n",
    "        super().__init__()\n",
    "        self.embedding = nn.Embedding.from_pretrained(embedding_weights)\n",
    "        self.lstm = new_LSTM(input_sz, hidden_sz, label_sz)\n",
    "    \n",
    "    def forward(self,x):\n",
    "        x_embeded = self.embedding(x)\n",
    "        pred = self.lstm(x_embeded)\n",
    "        return pred"
   ]
  },
  {
   "cell_type": "code",
   "execution_count": null,
   "id": "9851a15d",
   "metadata": {},
   "outputs": [],
   "source": [
    "device = torch.device(\"cuda\" if torch.cuda.is_available() else \"cpu\")\n",
    "#TODO: dynamic embedding size\n",
    "classifier = Net(50, 5, 1, weights).to(device)\n",
    "optimizer = optim.Adam(classifier.parameters(), lr=0.1)\n",
    "criterion = nn.BCELoss()\n",
    "epochs = 20"
   ]
  },
  {
   "cell_type": "code",
   "execution_count": null,
   "id": "fae57406",
   "metadata": {},
   "outputs": [
    {
     "name": "stdout",
     "output_type": "stream",
     "text": [
      "using cpu\n"
     ]
    }
   ],
   "source": [
    "if torch.cuda.is_available():\n",
    "    print(f'using: {torch.cuda.get_device_name(0)}')\n",
    "else:\n",
    "    print('using cpu')"
   ]
  },
  {
   "cell_type": "code",
   "execution_count": null,
   "id": "43a681b2",
   "metadata": {},
   "outputs": [
    {
     "data": {
      "text/plain": [
       "tensor([0])"
      ]
     },
     "execution_count": 60,
     "metadata": {},
     "output_type": "execute_result"
    }
   ],
   "source": [
    "y_train[0].view(1)"
   ]
  },
  {
   "cell_type": "markdown",
   "id": "661bff9b",
   "metadata": {},
   "source": [
    "# Training Loop"
   ]
  },
  {
   "cell_type": "code",
   "execution_count": null,
   "id": "6e81c2da",
   "metadata": {},
   "outputs": [],
   "source": [
    "def run_model_loop(X_train, X_test, y_train, y_test, classifier, epochs, criterion, optimizer, tb_dirname):\n",
    "    train_loss_list = []\n",
    "    test_loss_list = []\n",
    "    train_auc_list=[]\n",
    "    test_auc_list=[]\n",
    "\n",
    "    writer = SummaryWriter(log_dir=f'{tb_dir}/{tb_dirname}_{time.time()}')\n",
    "    i = 0\n",
    "    for e in range(epochs):\n",
    "        train_labels_list = []\n",
    "        train_prediction_list = []\n",
    "        test_labels_list = []\n",
    "        test_prediction_list = []\n",
    "        \n",
    "        running_loss = 0\n",
    "        classifier.train()\n",
    "        optimizer.zero_grad()\n",
    "        print(f'epoch {i} started')\n",
    "        for i, review in enumerate(X_train):\n",
    "            label= y_train[i].view(1)\n",
    "            review, label = review.to(device), label.to(device)\n",
    "            pred = classifier(review)\n",
    "            pred = pred.to(torch.float)\n",
    "            label = label.to(torch.float)\n",
    "            loss = criterion(pred, label)\n",
    "            running_loss+=loss.item()\n",
    "            train_prediction_list.append(pred)\n",
    "            train_labels_list.append(label)\n",
    "            if i != 0 and i%32 == 0:\n",
    "                loss.backward()\n",
    "                optimizer.step()\n",
    "                optimizer.zero_grad()\n",
    "        epoch_train_loss = running_loss/len(X_train)\n",
    "        train_loss_list.append(epoch_train_loss)\n",
    "        print(train_loss_list)\n",
    "        #fpr_t, tpr_t, thresholds_t = roc_curve(np.array(train_labels_list), np.array(train_prediction_list))\n",
    "        #train_auc = auc(fpr_t, tpr_t)\n",
    "        #train_auc_list.append(train_auc)    \n",
    "        \n",
    "        test_loss = 0\n",
    "        classifier.eval()\n",
    "        # we dont need to update weights, so we define no_grad() to save memory\n",
    "        with torch.no_grad():\n",
    "            for i, review in enumerate(X_test):\n",
    "                label= y_test[i].view(1)\n",
    "                review, label = review.to(device), label.to(device)\n",
    "                test_pred = classifier(review)\n",
    "                test_pred = test_pred.to(torch.float)\n",
    "                label = label.to(torch.float)\n",
    "                test_loss+=criterion(test_pred, label)\n",
    "                test_prediction_list.append(test_pred)\n",
    "                test_labels_list.append(label)\n",
    "        epoch_test_loss = test_loss/len(X_test)\n",
    "        test_loss_list.append(epoch_test_loss)\n",
    "        #fpr_v, tpr_v, thresholds_v = roc_curve(np.array(test_labels_list),np.array(test_prediction_list))\n",
    "        #test_auc = auc(fpr_v, tpr_v)\n",
    "        #test_auc_list.append(test_auc)\n",
    "        \n",
    "        #Tensorboard documentation\n",
    "        #loss\n",
    "        writer.add_scalar(tag='loss/train', scalar_value=epoch_train_loss, global_step=e)\n",
    "        writer.add_scalar(tag='loss/test', scalar_value=epoch_test_loss, global_step=e)\n",
    "        #auc\n",
    "        #writer.add_scalar(tag='auc/train', scalar_value=train_auc, global_step=e)\n",
    "        #writer.add_scalar(tag='auc/test', scalar_value=test_auc, global_step=e)\n",
    "\n",
    "    return {'train_loss':train_loss_list,\n",
    "            'train_auc':train_auc_list,\n",
    "            'test_auc':test_auc_list,\n",
    "            'test_loss':test_loss_list\n",
    "            }"
   ]
  },
  {
   "cell_type": "code",
   "execution_count": 69,
   "id": "640d9a5b",
   "metadata": {},
   "outputs": [
    {
     "name": "stdout",
     "output_type": "stream",
     "text": [
      "epoch 0 started\n"
     ]
    }
   ],
   "source": [
    "lstm_run = run_model_loop(X_train,X_test,y_train, y_test, classifier,epochs,criterion,optimizer,'lr_pytorch')"
   ]
  },
  {
   "cell_type": "markdown",
   "id": "9bca18a6",
   "metadata": {},
   "source": [
    "# Loss and Auc Plots"
   ]
  },
  {
   "cell_type": "code",
   "execution_count": null,
   "id": "ff477940",
   "metadata": {},
   "outputs": [],
   "source": [
    "#Loss vs epochs graph \n",
    "plt.figure(figsize=(20,10))\n",
    "plt.plot(lstm_run['train_loss'], label = 'net train loss')\n",
    "plt.legend(frameon = False)"
   ]
  },
  {
   "cell_type": "code",
   "execution_count": null,
   "id": "7a7b59e3",
   "metadata": {},
   "outputs": [],
   "source": [
    "#Loss vs epochs graph \n",
    "plt.figure(figsize=(20,10))\n",
    "plt.plot(lstm_run['test_loss'], label = 'net test loss')\n",
    "plt.legend(frameon = False)"
   ]
  },
  {
   "cell_type": "code",
   "execution_count": null,
   "id": "103c84bc",
   "metadata": {},
   "outputs": [],
   "source": [
    "plt.figure(figsize=(20,10))\n",
    "plt.plot(fpr_v, tpr_v, lw=2, alpha=0.3, label='ROC fold')\n",
    "# ROC GRAPH\n",
    "plt.xlabel('False Positive Rate')\n",
    "plt.ylabel('True Positive Rate')\n",
    "plt.title('ROC of ' + 'our model'.split(\"(\")[0] + ' model')\n",
    "plt.plot([0, 1], [0, 1], color='navy', linestyle='--')\n",
    "plt.legend(loc = \"lower right\")\n",
    "plt.show() "
   ]
  }
 ],
 "metadata": {
  "kernelspec": {
   "display_name": "Python 3",
   "language": "python",
   "name": "python3"
  },
  "language_info": {
   "codemirror_mode": {
    "name": "ipython",
    "version": 3
   },
   "file_extension": ".py",
   "mimetype": "text/x-python",
   "name": "python",
   "nbconvert_exporter": "python",
   "pygments_lexer": "ipython3",
   "version": "3.9.7"
  }
 },
 "nbformat": 4,
 "nbformat_minor": 5
}
